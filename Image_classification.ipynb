{
  "nbformat": 4,
  "nbformat_minor": 0,
  "metadata": {
    "colab": {
      "name": "Image Classification",
      "provenance": [],
      "collapsed_sections": [
        "7i3VR_6emrDU",
        "cyDvKt-xzzW-",
        "g66Pq2wU2P7s",
        "AhTTfHPr2ziM",
        "PbYyAOf_4RZK",
        "eQb7Jkgy-hH9"
      ]
    },
    "kernelspec": {
      "name": "python3",
      "display_name": "Python 3"
    },
    "accelerator": "GPU"
  },
  "cells": [
    {
      "cell_type": "markdown",
      "metadata": {
        "id": "mPIfskMYrdtk",
        "colab_type": "text"
      },
      "source": [
        "#Introduction to Image Classification\n",
        "By: Taylor Blair\n",
        "\n",
        "[Run in Google Colab](https://colab.research.google.com/drive/1ZsHf655LcMHFCbgkMPEivbLP6Ja5UeKg)\n",
        "\n",
        "[Github](https://github.com/Goodernews/Intro-to-ML/blob/master/Image_classification.ipynb) (*Not updated often*)\n",
        "\n",
        "\n",
        "---\n",
        "\n",
        "#New to Machine Learning or need some practice?\n",
        "If so do this [Intro to ML](https://colab.research.google.com/drive/1OAYlqDtRwhQZkfFtrAmnOBMVmvf7eBXl) course before continuing.\n",
        "\n",
        "\n",
        "---\n",
        "\n",
        "\n",
        "#Set up \n",
        "The below are instructions for setting up in google colab. If you are using a diffrent notebook enviorment, research how to do the below.\n",
        "\n",
        "##Run in playground mode\n",
        "Click open in playground mode. Voila, you can now edit.\n",
        "\n",
        "##Changing to Python 3:\n",
        "The code below is written with syntax that only exists in Python 3.\n",
        "\n",
        "Edit -> Notebook Settings -> Runtime Type -> Python 2\n",
        "\n",
        "##Running with GPU (Optional):\n",
        "Running tensorflow on a GPU is significantly faster, to test how much faster test using [this](https://colab.research.google.com/notebooks/gpu.ipynb).\n",
        "\n",
        "Edit -> Notebook Settings -> Hardware accelrator -> GPU\n"
      ]
    },
    {
      "cell_type": "code",
      "metadata": {
        "id": "pP6CBWHHL4su",
        "colab_type": "code",
        "cellView": "form",
        "colab": {}
      },
      "source": [
        "#@title ##Import libraries and Intialize Functions\n",
        "\n",
        "#@markdown Run this cell\n",
        "import tensorflow as tf\n",
        "from tensorflow import keras\n",
        "import random\n",
        "from random import randint\n",
        "import numpy as np\n",
        "from matplotlib import cm\n",
        "from matplotlib import gridspec\n",
        "from matplotlib import pyplot as plt\n",
        "import pandas as pd\n",
        "import seaborn as sns\n",
        "from sklearn import metrics\n",
        "\n",
        "def create_model(layers): #This makes the model shape, add or remove layers\n",
        "  model = tf.keras.models.Sequential()\n",
        "  model.add(keras.layers.Dense(layers[0], input_shape = (784,), activation=tf.nn.relu))\n",
        "  for x in range (1,len(layers)): #makes layers of model\n",
        "    model.add(keras.layers.Dense(layers[x], activation=tf.nn.relu))\n",
        "  model.add(keras.layers.Dense(10, activation=tf.nn.softmax)) #this returns the result between 1 and 10\n",
        "  model.compile(optimizer=tf.keras.optimizers.Adagrad(), #optomizes loss \n",
        "                loss=tf.keras.losses.sparse_categorical_crossentropy,\n",
        "                metrics=['accuracy'])\n",
        "  return model\n",
        "\n",
        "def model_train(steps, layers, images, labels, num_images, val, val_steps): #trains the model\n",
        "  model = create_model(layers)\n",
        "  model.fit(images[:num_images], labels[:num_images], validation_split=val, validation_steps=val_steps, epochs=10, steps_per_epoch=int(steps/10))  \n",
        "  return model\n",
        "\n",
        "def display_image(image, label): #Displays an image and label\n",
        "  _, ax = plt.subplots()\n",
        "  ax.matshow(image.reshape(28, 28))\n",
        "  ax.set_title(\"Label: %s\" % (label))\n",
        "  ax.grid(False)\n",
        "  \n",
        "def loss_acc(model, images, labels): #Prints the loss and accuracy of a model on test data\n",
        "  loss, acc = model.evaluate(images, labels)\n",
        "  print(\"Loss on test data: \", np.round(loss, 3))\n",
        "  print(\"Accuracy on test data: \", np.round(acc, 3))\n",
        "  \n",
        "def predict_image_label(model, image): #predicts the label for a single image\n",
        "  prediction = model.predict(np.array([image]))\n",
        "  predicted_label = np.argmax(prediction)\n",
        "  return predicted_label\n",
        "  \n",
        "print(tf.__version__)"
      ],
      "execution_count": null,
      "outputs": []
    },
    {
      "cell_type": "markdown",
      "metadata": {
        "id": "OUoijoLMIWRH",
        "colab_type": "text"
      },
      "source": [
        "#1-1 How Image Classification works\n",
        "Image classification works by turning images into a table with values representing pixels. This table is then fed into a machine learning model. \n",
        "\n",
        "![alt text](https://tensorflow.rstudio.com/tensorflow/articles/images/MNIST-Matrix.png) \n",
        "*Credit: Tensorflow for R*"
      ]
    },
    {
      "cell_type": "markdown",
      "metadata": {
        "id": "_nOf2NXZIDvk",
        "colab_type": "text"
      },
      "source": [
        "#1. The MNIST dataset\n",
        "![alt text](https://upload.wikimedia.org/wikipedia/commons/2/27/MnistExamples.png)\n",
        "\n",
        "The [MNIST](https://en.wikipedia.org/wiki/MNIST_database) dataset is probably the most important dataset in all of ML. The MNIST dataset is a collection of 70,000 twenty-eight by twenty-eight pictures of the numbers zero to nine. The MNIST dataset is used for testing for image classification model structures, [here](http://yann.lecun.com/exdb/mnist/) is a list of accuracy for diffrent model types. \n",
        "\n",
        "Keras has a series of datasets that can be loaded in with a few lines of code, the MNIST dataset is one of them ([Here](https://keras.io/datasets/) is the full list)"
      ]
    },
    {
      "cell_type": "code",
      "metadata": {
        "id": "JBFYMrpZH8YP",
        "colab_type": "code",
        "colab": {}
      },
      "source": [
        "#Imports the MNIST dataset\n",
        "from keras.datasets import mnist\n",
        "(train_MNIST_images, train_MNIST_labels), (test_MNIST_images, test_MNIST_labels) = mnist.load_data()"
      ],
      "execution_count": null,
      "outputs": []
    },
    {
      "cell_type": "code",
      "metadata": {
        "id": "c9uwvaxaPsGn",
        "colab_type": "code",
        "colab": {}
      },
      "source": [
        "#Run the following then read the below\n",
        "print(\"This is the number: \"+ str(train_MNIST_labels[0]))\n",
        "train_MNIST_images[0]\n",
        "#feel free to delete the result"
      ],
      "execution_count": null,
      "outputs": []
    },
    {
      "cell_type": "markdown",
      "metadata": {
        "id": "WOyrwbO4SRKt",
        "colab_type": "text"
      },
      "source": [
        "This doesn't look like the number five because it is. stored as a table with 60,000 rows and 28 columns with an addtional 28 numbers in each cell. Each cell has a number representing a greyscale pixel stored as a number between 0 and 256 (0 represents white and 256 black).\n",
        "\n",
        "You do not need to randomize data, or set aside test data as both of these have been done already. You need to reshape it to a table with 784 columns and each number needs to be from zero to one. As shown below"
      ]
    },
    {
      "cell_type": "code",
      "metadata": {
        "id": "RqV1Cuh-PN5G",
        "colab_type": "code",
        "colab": {}
      },
      "source": [
        "print(train_MNIST_images[0])"
      ],
      "execution_count": null,
      "outputs": []
    },
    {
      "cell_type": "code",
      "metadata": {
        "id": "R-Jm30rnR7F1",
        "colab_type": "code",
        "colab": {}
      },
      "source": [
        "#run only ONCE\n",
        "train_MNIST_images = train_MNIST_images.reshape(-1, 28 * 28)/256\n",
        "test_MNIST_images = test_MNIST_images.reshape(-1, 28 * 28)/256"
      ],
      "execution_count": null,
      "outputs": []
    },
    {
      "cell_type": "markdown",
      "metadata": {
        "id": "gl6WFwTZk_w6",
        "colab_type": "text"
      },
      "source": [
        "Now that the data is reshaped, display an image by running the cells below"
      ]
    },
    {
      "cell_type": "code",
      "metadata": {
        "id": "jvwXEEFuXSDQ",
        "colab_type": "code",
        "colab": {}
      },
      "source": [
        "random_number = randint(0,60000)\n",
        "image = train_MNIST_images[random_number]\n",
        "label = train_MNIST_labels[random_number]\n",
        "\n",
        "display_image(image, label)"
      ],
      "execution_count": null,
      "outputs": []
    },
    {
      "cell_type": "markdown",
      "metadata": {
        "id": "p-Yu8O-0MuvU",
        "colab_type": "text"
      },
      "source": [
        "#2. Making an image classifcation model\n",
        "\n",
        "Now that the data is imported lets build a model!\n",
        "\n",
        "Create a model that has at least 90% accuracy on test data."
      ]
    },
    {
      "cell_type": "code",
      "metadata": {
        "id": "L5THhGcFbM-0",
        "colab_type": "code",
        "cellView": "form",
        "colab": {}
      },
      "source": [
        "Steps = 100#@param {type:\"slider\", min:100, max:20000, step:1}\n",
        "#@markdown Number of times the computer goes through the data\n",
        "Layers = [] #@param {type:\"raw\"} \n",
        "#@markdown Layers of model seperated by commas\n",
        "Input_features = train_MNIST_images #@param {type:\"raw\"}\n",
        "#@markdown Input features for the model.\n",
        "Input_labels = train_MNIST_labels #@param {type:\"raw\"}\n",
        "#@markdown Input labels for the model.\n",
        "Num_train = 100#@param {type:\"slider\", min:100, max:60000, step:1}\n",
        "#@markdown Number of train images less than 60,000\n",
        "Percent_val = 0#@param{type:\"slider\", min:0, max:1, step:0.01}\n",
        "#@markdown Percent of images that should be used to validate.\n",
        "\n",
        "\n",
        "MNIST_model = model_train(Steps, #Steps\n",
        "                          Layers, #Layers seperated by commas\n",
        "                          Input_features, #Input data/features\n",
        "                          Input_labels, #Input labels\n",
        "                          Num_train, #Number of train and validation images, less then 60,000\n",
        "                          Percent_val, #Percent validation, float between 0 and 1\n",
        "                          50 #Validation steps, prevents overfitting\n",
        "                          )\n",
        "loss_acc(MNIST_model, test_MNIST_images, test_MNIST_labels)"
      ],
      "execution_count": null,
      "outputs": []
    },
    {
      "cell_type": "markdown",
      "metadata": {
        "id": "iFbfSkhrkZIW",
        "colab_type": "text"
      },
      "source": [
        "###Solution"
      ]
    },
    {
      "cell_type": "code",
      "metadata": {
        "id": "famDhUMgkcOg",
        "colab_type": "code",
        "cellView": "form",
        "colab": {}
      },
      "source": [
        "Steps = 250#@param {type:\"slider\", min:100, max:20000, step:1}\n",
        "#@markdown Number of times the computer goes through the data\n",
        "Layers = [32,10] #@param {type:\"raw\"} \n",
        "#@markdown Layers of model seperated by commas\n",
        "Input_features = train_MNIST_images #@param {type:\"raw\"}\n",
        "#@markdown Input features for the model.\n",
        "Input_labels = train_MNIST_labels #@param {type:\"raw\"}\n",
        "#@markdown Input labels for the model.\n",
        "Num_train = 40000#@param {type:\"slider\", min:100, max:60000, step:1}\n",
        "#@markdown Number of train images less than 60,000\n",
        "Percent_val = 0.3#@param{type:\"slider\", min:0, max:1, step:0.01}\n",
        "#@markdown Percent of images that should be used to validate.\n",
        "\n",
        "\n",
        "MNIST_model = model_train(Steps, #Steps\n",
        "                          Layers, #Layers seperated by commas\n",
        "                          Input_features, #Input data/features\n",
        "                          Input_labels, #Input labels\n",
        "                          Num_train, #Number of train and validation images, less then 60,000\n",
        "                          Percent_val, #Percent validation, float between 0 and 1\n",
        "                          50 #Validation steps, prevents overfitting\n",
        "                          )\n",
        "loss_acc(MNIST_model, test_MNIST_images, test_MNIST_labels)"
      ],
      "execution_count": null,
      "outputs": []
    },
    {
      "cell_type": "markdown",
      "metadata": {
        "id": "cXEHGvXYcshm",
        "colab_type": "text"
      },
      "source": [
        "#Predicting Images\n",
        "Now that we have our model let's see how our model does at predicting images from our test set. "
      ]
    },
    {
      "cell_type": "code",
      "metadata": {
        "id": "jo4RAwRzcrdq",
        "colab_type": "code",
        "colab": {}
      },
      "source": [
        "def predict_image(image, model, actual_label): #outputs an image along with what the model predicts, and true label\n",
        "  predicted_label=predict_image_label(model, image)\n",
        "  _, ax = plt.subplots()\n",
        "  ax.matshow(image.reshape(28, 28))\n",
        "  ax.set_xlabel(\"Label: %s\" % (actual_label), fontsize=15)\n",
        "  ax.set_title(\"Predicted: %s\" % (predicted_label), fontsize=20)\n",
        "  ax.grid(False)"
      ],
      "execution_count": null,
      "outputs": []
    },
    {
      "cell_type": "code",
      "metadata": {
        "id": "Eou9Ov_2dLOK",
        "colab_type": "code",
        "colab": {}
      },
      "source": [
        "random_number = randint(0,60000) #picks a random number from the MNIST data set\n",
        "image = train_MNIST_images[random_number]\n",
        "label = train_MNIST_labels[random_number]\n",
        "\n",
        "predict_image(image, MNIST_model, label)"
      ],
      "execution_count": null,
      "outputs": []
    },
    {
      "cell_type": "markdown",
      "metadata": {
        "id": "i-pe6NZRhXu9",
        "colab_type": "text"
      },
      "source": [
        "While this is an intresting demonstration lets see some statistical data. You will look at the final accuracy and a confusion Matrix for the model\n",
        "\n",
        "A confusion Matrix displays the predicted vs actual label. Try changing your model and see how the confusion matrix changes.\n",
        "\n"
      ]
    },
    {
      "cell_type": "code",
      "metadata": {
        "id": "emPDiPaWhwYq",
        "colab_type": "code",
        "colab": {}
      },
      "source": [
        "def stats(model, num_images, images, labels): #prints out the basic stats, and a confusion matrix\n",
        "  images = images[:num_images]\n",
        "  labels = labels[:num_images]\n",
        "  confusion_matrix(model, images, labels)\n",
        "  loss_acc(model, images, labels)\n",
        "  #If you have more tests add them here\n",
        "  \n",
        "def confusion_matrix(model, images, labels): #graph of predicted label to actual label \n",
        "  final_predictions = predict_group(images, model)\n",
        "  cm = metrics.confusion_matrix(labels, final_predictions)\n",
        "  cm_normalized = cm.astype(\"float\") / cm.sum(axis=1)[:, np.newaxis]\n",
        "  ax = sns.heatmap(cm_normalized, cmap=\"bone_r\")\n",
        "  ax.set_aspect(1)\n",
        "  plt.title(\"Confusion matrix\")\n",
        "  plt.ylabel(\"True label\")\n",
        "  plt.xlabel(\"Predicted label\")\n",
        "  plt.show()\n",
        "  \n",
        "def predict_group(images, model): #predicts the labels for a list of images\n",
        "  holder_list=[]\n",
        "  for x in range (0,len(images)):\n",
        "    holder = predict_image_label(model, images[x])\n",
        "    holder_list.append(holder)\n",
        "  return holder_list"
      ],
      "execution_count": null,
      "outputs": []
    },
    {
      "cell_type": "code",
      "metadata": {
        "id": "1FGSrSYKiqZo",
        "colab_type": "code",
        "colab": {}
      },
      "source": [
        "stats(MNIST_model, #model you are testing\n",
        "     1000, #number of images to use for stats, less then 10,000\n",
        "     test_MNIST_images, #Test images\n",
        "     test_MNIST_labels) #Test labels"
      ],
      "execution_count": null,
      "outputs": []
    },
    {
      "cell_type": "markdown",
      "metadata": {
        "id": "7i3VR_6emrDU",
        "colab_type": "text"
      },
      "source": [
        "##Optional\n"
      ]
    },
    {
      "cell_type": "markdown",
      "metadata": {
        "id": "tmp8AgwGnFpR",
        "colab_type": "text"
      },
      "source": [
        "###Kaggle MNIST competition\n",
        "If you feel confident in your model try entering it in the [Kaggle MNIST competition](https://www.kaggle.com/c/digit-recognizer). The following is set up so you can run the cell below and it will output a CSV that you can enter with. \n",
        "\n",
        "The authors record is 35th place, with a perfect accuracy. The shape of their model is 9 layers with a total of 4160 nodes trained on all avalible data for 1.5 million steps. What **intentional** mistake did they make.\n",
        "\n",
        "Note: *This is designed for google colab, if you are using a diffrent enviorment you may have to change the last line to download the CSV.*"
      ]
    },
    {
      "cell_type": "code",
      "metadata": {
        "id": "MbKAT3zBm1m1",
        "colab_type": "code",
        "colab": {}
      },
      "source": [
        "#opens the kaggle data\n",
        "from google.colab import auth\n",
        "from google.colab import files\n",
        "auth.authenticate_user()\n",
        "from googleapiclient.discovery import build\n",
        "drive_service = build('drive', 'v3')\n",
        "from oauth2client.client import GoogleCredentials\n",
        "def driveDownloader(fileName): #This is used to import from google drive\n",
        "  file_id = fileName\n",
        "  import io\n",
        "  from googleapiclient.http import MediaIoBaseDownload\n",
        "  request = drive_service.files().get_media(fileId=file_id)\n",
        "  downloaded = io.BytesIO()\n",
        "  downloader = MediaIoBaseDownload(downloaded, request)\n",
        "  done = False\n",
        "  while done is False:\n",
        "    _, done = downloader.next_chunk()\n",
        "\n",
        "  downloaded.seek(0)\n",
        "  return downloaded\n",
        "print(\"Downloading data\")\n",
        "kaggle_mnist_data = pd.read_csv(driveDownloader('17jgy4ubFVlngqZLgsLyh5tqLNizE-sOM'), sep=\",\") #gets the file from google drive\n",
        "kaggle_mnist_data = kaggle_mnist_data.as_matrix()\n",
        "kaggle_mnist_data = kaggle_mnist_data/256\n",
        "\n",
        "image_ids = []\n",
        "for x in range (0,len(kaggle_mnist_data)):\n",
        "  image_ids.append(x+1)\n",
        "print(\"Making predictions\")\n",
        "predictions_for_kaggle = predict_group(kaggle_mnist_data, #the unlabeled images\n",
        "                                       MNIST_model) #the model you are using\n",
        "\n",
        "merged_lists = list(zip(image_ids,predictions_for_kaggle))\n",
        "df = pd.DataFrame(data = merged_lists, columns=['ImageId', 'Label']) #Makes a pandas dataframe\n",
        "print(\"Making CSV\")\n",
        "df.to_csv(\"Kaggle_MNIST_submission.csv\", index=False) #turns the pandas dataframe into a CSV\n",
        "files.download(\"Kaggle_MNIST_submission.csv\") #downloads the file"
      ],
      "execution_count": null,
      "outputs": []
    },
    {
      "cell_type": "markdown",
      "metadata": {
        "id": "lmlD1d9LLJKh",
        "colab_type": "text"
      },
      "source": [
        "#3. The Fashion MNIST\n",
        "![alt text](https://markusthill.github.io/images/2017-10-12-zalandos-fashion-mnist-dataset/zalando10x10.jpeg)\n",
        "\n",
        "*Credit: Mark Thill via Github*\n",
        "\n",
        "The Fashion MNIST is a derivative of the MNIST dataset. It also has 60,000 training images and 10,000 test images that are grayscale in a 28 by 28 size. The diffrence is that the Fahion MNIST contains... fashion. \n",
        "\n",
        "Here are the categories, and associated numbers\n",
        "0.   T-shirt/top\n",
        "1.   Trouser \n",
        "2. Pullover\n",
        "3. Dress\n",
        "4. Coat\n",
        "5. Sandal\n",
        "6. Shirt\n",
        "7. Sneaker\n",
        "8. Bag\n",
        "9. Ankle Boot\n",
        "\n",
        "Your goal is to create a model using the steps above that can achieve at least a 80% accuracy on **test** data.\n"
      ]
    },
    {
      "cell_type": "code",
      "metadata": {
        "id": "E8PNLoJ0LIkn",
        "colab_type": "code",
        "colab": {}
      },
      "source": [
        "#Run the following, DON'T change\n",
        "from keras.datasets import fashion_mnist\n",
        "(train_fashion_images, train_fashion_labels), (test_fashion_images, test_fashion_labels) = fashion_mnist.load_data()\n",
        "\n",
        "def predict_fashion_image(image, model, actual_label): #outputs an image along with what the model predicts, and true label\n",
        "  predicted_label = fashion_num_to_label(predict_image_label(model, image))\n",
        "  _, ax = plt.subplots()\n",
        "  ax.matshow(image.reshape(28, 28))\n",
        "  ax.set_xlabel(\"Label: %s\" % (actual_label), fontsize=15)\n",
        "  ax.set_title(\"Predicted: %s\" % (predicted_label), fontsize=20)\n",
        "  ax.grid(False)"
      ],
      "execution_count": null,
      "outputs": []
    },
    {
      "cell_type": "markdown",
      "metadata": {
        "id": "KPyiFpPqmlIU",
        "colab_type": "text"
      },
      "source": [
        "##Pre-Process the data\n",
        "The fashion MNIST has the same dimentsions as the MNIST dataset. Look at the code for pre-processing the MNIST data and prepare the data in the same way."
      ]
    },
    {
      "cell_type": "code",
      "metadata": {
        "id": "DwmxVE5VoSUD",
        "colab_type": "code",
        "colab": {}
      },
      "source": [
        "train_fashion_images = ...\n",
        "test_fashion_images = ..."
      ],
      "execution_count": null,
      "outputs": []
    },
    {
      "cell_type": "markdown",
      "metadata": {
        "id": "cyDvKt-xzzW-",
        "colab_type": "text"
      },
      "source": [
        "###Solution"
      ]
    },
    {
      "cell_type": "code",
      "metadata": {
        "id": "tiRpnTEBz4sv",
        "colab_type": "code",
        "colab": {}
      },
      "source": [
        "test_fashion_images = test_fashion_images.reshape(-1, 28 * 28)/256\n",
        "train_fashion_images = train_fashion_images.reshape(-1, 28 * 28)/256"
      ],
      "execution_count": null,
      "outputs": []
    },
    {
      "cell_type": "markdown",
      "metadata": {
        "id": "Tib6u-irouCD",
        "colab_type": "text"
      },
      "source": [
        "##Display an image"
      ]
    },
    {
      "cell_type": "code",
      "metadata": {
        "id": "gChEW2VBo6Km",
        "colab_type": "code",
        "colab": {}
      },
      "source": [
        "random_number = randint(0,60000)\n",
        "image = train_fashion_images[random_number]\n",
        "label = \"\" #make a function that takes a number and outputs the associated string\n",
        "\n",
        "display_image(image, label)\n",
        "\n",
        "print(\"Number label is: \", train_fashion_labels[random_number])"
      ],
      "execution_count": null,
      "outputs": []
    },
    {
      "cell_type": "markdown",
      "metadata": {
        "id": "i2hCr2itxP2L",
        "colab_type": "text"
      },
      "source": [
        "##Changing numbers to strings using lists \n",
        "While it is possible to write ten if statements, it would be time consuming. The easiest way to change a small number to a string is using lists."
      ]
    },
    {
      "cell_type": "code",
      "metadata": {
        "id": "MPF00ndxy22D",
        "colab_type": "code",
        "colab": {}
      },
      "source": [
        "flowers = [\"Roses\", \"Dasies\", \"Tulips\", \"Orchids\", \"Carnations\"]"
      ],
      "execution_count": null,
      "outputs": []
    },
    {
      "cell_type": "code",
      "metadata": {
        "id": "dLlYBYLDzez4",
        "colab_type": "code",
        "colab": {}
      },
      "source": [
        "print(flowers[0])\n",
        "print(flowers[1])\n",
        "print(flowers[4])"
      ],
      "execution_count": null,
      "outputs": []
    },
    {
      "cell_type": "markdown",
      "metadata": {
        "id": "vMQvso8FwyGv",
        "colab_type": "text"
      },
      "source": [
        "Because our data is labeled as an integer from 0 to 9, we can use lists to change the numbers to integers."
      ]
    },
    {
      "cell_type": "code",
      "metadata": {
        "id": "73gd9HbfIAza",
        "colab_type": "code",
        "colab": {}
      },
      "source": [
        "def fashion_num_to_label(label_num):\n",
        "  fashion_labels = [\"T-shirt/top\", \"Trouser\", \"Pullover\", \"Dress\", \"Coat\", \"Sandal\", \"Shirt\", \"Sneaker\", \"Bag\", \"Ankle Boot\"]\n",
        "  label = ...\n",
        "  return label"
      ],
      "execution_count": null,
      "outputs": []
    },
    {
      "cell_type": "markdown",
      "metadata": {
        "id": "AIoQyohKc0zn",
        "colab_type": "text"
      },
      "source": [
        "Test your function and then add to the display function above."
      ]
    },
    {
      "cell_type": "code",
      "metadata": {
        "id": "DPb2AAbNAnPO",
        "colab_type": "code",
        "colab": {}
      },
      "source": [
        "print(\"T-shirt/top = \", fashion_num_to_label(0))\n",
        "print(\"Coat = \", fashion_num_to_label(4))"
      ],
      "execution_count": null,
      "outputs": []
    },
    {
      "cell_type": "markdown",
      "metadata": {
        "id": "g66Pq2wU2P7s",
        "colab_type": "text"
      },
      "source": [
        "###Solution"
      ]
    },
    {
      "cell_type": "code",
      "metadata": {
        "id": "QfO3syhO2RsO",
        "colab_type": "code",
        "colab": {}
      },
      "source": [
        "def fashion_num_to_label(label_num):\n",
        "  fashion_labels = [\"T-shirt/top\", \"Trouser\", \"Pullover\", \"Dress\", \"Coat\", \"Sandal\", \"Shirt\", \"Sneaker\", \"Bag\", \"Ankle Boot\"]\n",
        "  label = fashion_labels[label_num]\n",
        "  return label"
      ],
      "execution_count": null,
      "outputs": []
    },
    {
      "cell_type": "markdown",
      "metadata": {
        "id": "lpai9jOntiCp",
        "colab_type": "text"
      },
      "source": [
        "##Train a model\n",
        "\n",
        "After the data is prepared train a model.\n",
        "\n",
        "Make sure that `model_train()` is intialized above.\n",
        "\n"
      ]
    },
    {
      "cell_type": "code",
      "metadata": {
        "id": "KXFTosyot5WU",
        "colab_type": "code",
        "colab": {}
      },
      "source": [
        "fashion_MNIST_model = model_train(, #Steps\n",
        "                                  , #Layers seperated by commas\n",
        "                                  , #Input data/features\n",
        "                                  , #Input labels\n",
        "                                  , #Number of train and validation images, less then 60,000\n",
        "                                  , #Percent validation, float between 0 and 1\n",
        "                                  #Validation steps, prevents overfitting\n",
        "                                  )\n",
        "loss_acc(fashion_MNIST_model, test_fashion_images, test_fashion_labels)"
      ],
      "execution_count": null,
      "outputs": []
    },
    {
      "cell_type": "markdown",
      "metadata": {
        "id": "AhTTfHPr2ziM",
        "colab_type": "text"
      },
      "source": [
        "###Solution"
      ]
    },
    {
      "cell_type": "code",
      "metadata": {
        "id": "oSfFzNCl2zFm",
        "colab_type": "code",
        "colab": {}
      },
      "source": [
        "fashion_MNIST_model = model_train(1000, #Steps\n",
        "                                  [64,32], #Layers seperated by commas\n",
        "                                  train_fashion_images, #Input data/features\n",
        "                                  train_fashion_labels, #Input labels\n",
        "                                  40000, #Number of train and validation images, less then 60,000\n",
        "                                  0.3, #Percent validation, float between 0 and 1\n",
        "                                  50 #Validation steps, prevents overfitting\n",
        "                                  )\n",
        "loss_acc(fashion_MNIST_model, test_fashion_images, test_fashion_labels)"
      ],
      "execution_count": null,
      "outputs": []
    },
    {
      "cell_type": "markdown",
      "metadata": {
        "id": "MKltmVHJ4kVl",
        "colab_type": "text"
      },
      "source": [
        "##Visualize results\n",
        "Display an image, and it's prediction\n",
        "\n",
        "**Prerequisite:**  Complete ```fashion_num_to_label()``` function\n",
        "\n"
      ]
    },
    {
      "cell_type": "code",
      "metadata": {
        "id": "NnQVyRgP5HfK",
        "colab_type": "code",
        "colab": {}
      },
      "source": [
        "random_image_num = #There are 10000 test images\n",
        "image = ...\n",
        "label = ...\n",
        "predict_fashion_image(image, \n",
        "                      , #Model name\n",
        "                      label\n",
        "                      )"
      ],
      "execution_count": null,
      "outputs": []
    },
    {
      "cell_type": "markdown",
      "metadata": {
        "id": "PbYyAOf_4RZK",
        "colab_type": "text"
      },
      "source": [
        "###Solution"
      ]
    },
    {
      "cell_type": "code",
      "metadata": {
        "id": "NSuHrvip4S5d",
        "colab_type": "code",
        "colab": {}
      },
      "source": [
        "random_image_num = randint(0,10000) #There are 10000 test images\n",
        "image = test_fashion_images[random_image_num]\n",
        "label = fashion_num_to_label(test_fashion_labels[random_image_num])\n",
        "predict_fashion_image(image, \n",
        "                      fashion_MNIST_model,\n",
        "                      label\n",
        "                      )"
      ],
      "execution_count": null,
      "outputs": []
    },
    {
      "cell_type": "markdown",
      "metadata": {
        "id": "FAfYuAzP0QxX",
        "colab_type": "text"
      },
      "source": [
        "##Stats\n",
        "Display the stats of your model. "
      ]
    },
    {
      "cell_type": "code",
      "metadata": {
        "id": "zAbQczRX0T3v",
        "colab_type": "code",
        "colab": {}
      },
      "source": [
        "stats(, #model name\n",
        "      , #number of images, less then 10,000\n",
        "      , #test images\n",
        "      , # test labels\n",
        "     )"
      ],
      "execution_count": null,
      "outputs": []
    },
    {
      "cell_type": "markdown",
      "metadata": {
        "id": "eQb7Jkgy-hH9",
        "colab_type": "text"
      },
      "source": [
        "###Solution"
      ]
    },
    {
      "cell_type": "code",
      "metadata": {
        "id": "32MC1oqf-kYl",
        "colab_type": "code",
        "colab": {}
      },
      "source": [
        "stats(fashion_MNIST_model, #model name\n",
        "      5000, #number of images, less then 10,000\n",
        "      test_fashion_images, #test images\n",
        "      test_fashion_labels, # test labels\n",
        "     )"
      ],
      "execution_count": null,
      "outputs": []
    },
    {
      "cell_type": "markdown",
      "metadata": {
        "id": "BvfXsF40T6l1",
        "colab_type": "text"
      },
      "source": [
        "#Mobile Version of Image Recognition Model\n",
        "\n",
        "Want to see how your model preforms in the real world? If you have an Android phone you can download [this](https://) app. There is no iOS version.\n",
        "\n",
        "Steps for using app:\n",
        "\n",
        "1. Create a tflite model, and save it to your phone\n",
        "2. Download the app to your Android phone\n",
        "3. Select use your own model\n",
        "4. Find the model\n",
        "5. Have fun!\n",
        "\n",
        "Note: *The author of this notebook is currently working on the app. However they are backed-up with other projects, and has a condtion which forces themselves to talk in the third person*.\n",
        "\n",
        "Note 2: This code is designed for Google Colabs, if you want to download your model, edit the last line."
      ]
    },
    {
      "cell_type": "code",
      "metadata": {
        "id": "20RjmF_kUBno",
        "colab_type": "code",
        "colab": {}
      },
      "source": [
        "def model_mobile_download(model):\n",
        "  from google.colab import files\n",
        "  keras_file = \"keras_model.h5\"\n",
        "  model.save(keras_file)\n",
        "  converter = tf.contrib.lite.TFLiteConverter.from_keras_model_file(keras_file)\n",
        "  tflite_model = converter.convert()\n",
        "  open(\"converted_model.tflite\", \"wb\").write(tflite_model)\n",
        "  files.download(\"converted_model.tflite\")\n",
        "  "
      ],
      "execution_count": null,
      "outputs": []
    },
    {
      "cell_type": "code",
      "metadata": {
        "id": "swG_0ujYUCNu",
        "colab_type": "code",
        "colab": {}
      },
      "source": [
        "model_mobile_download(MNIST_model #model name\n",
        "                     )"
      ],
      "execution_count": null,
      "outputs": []
    }
  ]
}
