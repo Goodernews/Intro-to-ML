{
  "nbformat": 4,
  "nbformat_minor": 0,
  "metadata": {
    "colab": {
      "name": "Image classification",
      "version": "0.3.2",
      "provenance": [],
      "collapsed_sections": [
        "7i3VR_6emrDU",
        "i2hCr2itxP2L"
      ]
    },
    "kernelspec": {
      "name": "python3",
      "display_name": "Python 3"
    }
  },
  "cells": [
    {
      "metadata": {
        "id": "pP6CBWHHL4su",
        "colab_type": "code",
        "colab": {}
      },
      "cell_type": "code",
      "source": [
        "#Run once\n",
        "import tensorflow as tf\n",
        "from tensorflow import keras\n",
        "\n",
        "import random\n",
        "from random import randint\n",
        "import numpy as np\n",
        "from matplotlib import cm\n",
        "from matplotlib import gridspec\n",
        "from matplotlib import pyplot as plt\n",
        "import pandas as pd\n",
        "\n",
        "import seaborn as sns\n",
        "from sklearn import metrics\n",
        "\n",
        "print(tf.__version__)"
      ],
      "execution_count": 0,
      "outputs": []
    },
    {
      "metadata": {
        "id": "OUoijoLMIWRH",
        "colab_type": "text"
      },
      "cell_type": "markdown",
      "source": [
        "#Image Classification\n",
        "Image classification works by turning images into a table with pixels  \n",
        "\n",
        "![alt text](https://tensorflow.rstudio.com/tensorflow/articles/images/MNIST-Matrix.png) \n",
        "*Credit: Tensorflow for R*"
      ]
    },
    {
      "metadata": {
        "id": "FiEFKXQV1LXH",
        "colab_type": "text"
      },
      "cell_type": "markdown",
      "source": [
        "##Softmax\n",
        "Softmax returns a list of the likelihood of each possibilty, the largest number \n",
        "\n",
        "![alt text](https://www.superdatascience.com/wp-content/uploads/2018/08/CNN_Softmax_Img1.png)\n",
        "*Credit: Super Data Science*"
      ]
    },
    {
      "metadata": {
        "id": "_nOf2NXZIDvk",
        "colab_type": "text"
      },
      "cell_type": "markdown",
      "source": [
        "#1. The MNIST dataset\n",
        "![alt text](https://upload.wikimedia.org/wikipedia/commons/2/27/MnistExamples.png)\n",
        "\n",
        "The [MNIST](https://en.wikipedia.org/wiki/MNIST_database) dataset is probably the most important dataset in all of ML, it is the foundation and testing ground for image classification models. The MNIST dataset is a collection of 70,000 28 by 28 pictures of the numbers zero to nine.\n",
        "\n",
        "Keras has a series of datasets that can be loaded in with a few lines of code, the MNIST dataset is one of them ([Here](https://keras.io/datasets/) is the full list)"
      ]
    },
    {
      "metadata": {
        "id": "JBFYMrpZH8YP",
        "colab_type": "code",
        "colab": {}
      },
      "cell_type": "code",
      "source": [
        "from keras.datasets import mnist\n",
        "(train_MNIST_images, train_MNIST_labels), (test_MNIST_images, test_MNIST_labels) = mnist.load_data()"
      ],
      "execution_count": 0,
      "outputs": []
    },
    {
      "metadata": {
        "id": "c9uwvaxaPsGn",
        "colab_type": "code",
        "colab": {}
      },
      "cell_type": "code",
      "source": [
        "#Run the following then read the below\n",
        "print(\"This is the number: \"+ str(train_MNIST_labels[0]))\n",
        "train_MNIST_images[0]\n",
        "#feel free to delete the result"
      ],
      "execution_count": 0,
      "outputs": []
    },
    {
      "metadata": {
        "id": "WOyrwbO4SRKt",
        "colab_type": "text"
      },
      "cell_type": "markdown",
      "source": [
        "While this doesn't look like the number five, it is. Currently the image is being stored as a table with 60,000 rows and 28 columns with an addtional 28 numbers in each cell. Each cell has a number representing a greyscale pixel stored as a number between 0 and 256 (0 represents white and 256 black).\n",
        "\n",
        "So you need to do some data pre-processing in order for the data to be readable for our model. You do not need to randomize data, or set aside test data as both of these have been done already. You need to reshape it to a table with 784 columns and each number needs to be from zero to one. "
      ]
    },
    {
      "metadata": {
        "id": "R-Jm30rnR7F1",
        "colab_type": "code",
        "colab": {}
      },
      "cell_type": "code",
      "source": [
        "train_MNIST_images = train_MNIST_images.reshape(-1, 28 * 28)/256\n",
        "test_MNIST_images = test_MNIST_images.reshape(-1, 28 * 28)/256"
      ],
      "execution_count": 0,
      "outputs": []
    },
    {
      "metadata": {
        "id": "gl6WFwTZk_w6",
        "colab_type": "text"
      },
      "cell_type": "markdown",
      "source": [
        "Let's display an image"
      ]
    },
    {
      "metadata": {
        "id": "WCuBDIx8WD5y",
        "colab_type": "code",
        "colab": {}
      },
      "cell_type": "code",
      "source": [
        "#Here is a function that displays an image of the \n",
        "def display_image(image, label): #outputs an image along with what the model predicts, and true label\n",
        "  _, ax = plt.subplots()\n",
        "  ax.matshow(image.reshape(28, 28))\n",
        "  ax.set_title(\"Label: %s\" % (label))\n",
        "  ax.grid(False)"
      ],
      "execution_count": 0,
      "outputs": []
    },
    {
      "metadata": {
        "id": "jvwXEEFuXSDQ",
        "colab_type": "code",
        "colab": {}
      },
      "cell_type": "code",
      "source": [
        "random_number = randint(0,60000)\n",
        "image = train_MNIST_images[random_number]\n",
        "label = train_MNIST_labels[random_number]\n",
        "\n",
        "display_image(image, label)"
      ],
      "execution_count": 0,
      "outputs": []
    },
    {
      "metadata": {
        "id": "p-Yu8O-0MuvU",
        "colab_type": "text"
      },
      "cell_type": "markdown",
      "source": [
        "#2. Making an image classifcation model\n",
        "\n",
        "Now that the data is imported lets build a model!\n",
        "\n",
        "There are two functions below, create_model and model_run.\n",
        "\n",
        "`create_model()` will be used to define the shape of our model. Currently `create_model()`makes a softmax model that has two layers, 96 nodes. \n",
        "\n",
        "`model_run()` trains the model of our data"
      ]
    },
    {
      "metadata": {
        "id": "ByiP51bDMuWD",
        "colab_type": "code",
        "colab": {}
      },
      "cell_type": "code",
      "source": [
        "def create_model(): #this makes the model shape, add or remove layers\n",
        "  model = tf.keras.models.Sequential([\n",
        "    keras.layers.Dense(64, activation=tf.nn.relu),\n",
        "    keras.layers.Dropout(0.2),\n",
        "    keras.layers.Dense(32, activation=tf.nn.relu),\n",
        "    keras.layers.Dropout(0.2),\n",
        "    #If you want to add more layers to this copy the two lines above and replace this\n",
        "    keras.layers.Dense(10, activation=tf.nn.softmax) #outputs one of then \n",
        "  ])\n",
        "  \n",
        "  model.compile(optimizer=tf.keras.optimizers.Adagrad(), \n",
        "                loss=tf.keras.losses.sparse_categorical_crossentropy,\n",
        "                metrics=['accuracy'])\n",
        "  return model\n",
        "\n",
        "\n",
        "def model_train(epoch, images, labels, num_images): #trains the model\n",
        "  model = create_model()\n",
        "  model.fit(images[:num_images], labels[:num_images], epochs=epoch)  \n",
        "  return model"
      ],
      "execution_count": 0,
      "outputs": []
    },
    {
      "metadata": {
        "id": "L5THhGcFbM-0",
        "colab_type": "code",
        "colab": {}
      },
      "cell_type": "code",
      "source": [
        "MNIST_model = model_train(2, #epochs,\n",
        "                          train_MNIST_images, #input data/features\n",
        "                          train_MNIST_labels, #input labels\n",
        "                          20000 #num train images, less then 60,000\n",
        "                          )"
      ],
      "execution_count": 0,
      "outputs": []
    },
    {
      "metadata": {
        "id": "cXEHGvXYcshm",
        "colab_type": "text"
      },
      "cell_type": "markdown",
      "source": [
        "Now that we have our model let's see how our model does at predicting images from our test set. "
      ]
    },
    {
      "metadata": {
        "id": "jo4RAwRzcrdq",
        "colab_type": "code",
        "colab": {}
      },
      "cell_type": "code",
      "source": [
        "def predict_image_label(eval_model, image): #predicts the label for a single image\n",
        "  prediction = eval_model.predict(np.array([image])) \n",
        "  predicted_label = (np.argmax(prediction))\n",
        "  return predicted_label\n",
        "\n",
        "def predict_image(image, model, actual_label): #outputs an image along with what the model predicts, and true label\n",
        "  predicted_label=predict_image_label(model, image)\n",
        "  _, ax = plt.subplots()\n",
        "  ax.matshow(image.reshape(28, 28))\n",
        "  ax.set_xlabel(\"Label: %s\" % (actual_label), fontsize=15)\n",
        "  ax.set_title(\"Predicted: %s\" % (predicted_label), fontsize=20)\n",
        "  ax.grid(False)"
      ],
      "execution_count": 0,
      "outputs": []
    },
    {
      "metadata": {
        "id": "Eou9Ov_2dLOK",
        "colab_type": "code",
        "colab": {}
      },
      "cell_type": "code",
      "source": [
        "random_number = randint(0,60000) # \n",
        "image = train_MNIST_images[random_number]\n",
        "label = train_MNIST_labels[random_number]\n",
        "\n",
        "predict_image(image, MNIST_model, label)"
      ],
      "execution_count": 0,
      "outputs": []
    },
    {
      "metadata": {
        "id": "i-pe6NZRhXu9",
        "colab_type": "text"
      },
      "cell_type": "markdown",
      "source": [
        "While this is an intresting demonstration lets see some statistical data. You will look at the final accuracy and a confusion Matrix for the model\n",
        "\n",
        "A confusion Matrix displays the predicted vs actual label. Try changing your model and see how the confusion matrix changes.\n",
        "\n"
      ]
    },
    {
      "metadata": {
        "id": "emPDiPaWhwYq",
        "colab_type": "code",
        "colab": {}
      },
      "cell_type": "code",
      "source": [
        "def stats(model, num_images, images, labels): #prints out the basic stats, and a confusion matrix\n",
        "  images = images[:num_images]\n",
        "  labels = labels[:num_images]\n",
        "  confusion_matrix(model, images, labels)\n",
        "  accuracy(model, images, labels)\n",
        "  #If you have more tests add them here\n",
        "  \n",
        "def confusion_matrix(model, images, labels): #graph of predicted label to actual label \n",
        "  final_predictions = predict_group(images, model)\n",
        "  cm = metrics.confusion_matrix(labels, final_predictions)\n",
        "  cm_normalized = cm.astype(\"float\") / cm.sum(axis=1)[:, np.newaxis]\n",
        "  ax = sns.heatmap(cm_normalized, cmap=\"bone_r\")\n",
        "  ax.set_aspect(1)\n",
        "  plt.title(\"Confusion matrix\")\n",
        "  plt.ylabel(\"True label\")\n",
        "  plt.xlabel(\"Predicted label\")\n",
        "  plt.show()\n",
        "  \n",
        "def accuracy(model, images, labels): # accuracy of model\n",
        "  loss, acc = model.evaluate(images, labels)\n",
        "  print(\"Model accuracy on test data: {:5.2f}%\".format(100*acc))\n",
        "  \n",
        "def predict_group(images, model): #predicts the labels for a list of images\n",
        "  holder_list=[]\n",
        "  for x in range (0,len(images)):\n",
        "    holder = predict_image_label(model, images[x])\n",
        "    holder_list.append(holder)\n",
        "  return holder_list"
      ],
      "execution_count": 0,
      "outputs": []
    },
    {
      "metadata": {
        "id": "1FGSrSYKiqZo",
        "colab_type": "code",
        "colab": {}
      },
      "cell_type": "code",
      "source": [
        "stats(MNIST_model, #model you are testing\n",
        "     1000, #number of images to use for stats, less then 10,000\n",
        "     test_MNIST_images, #Test images\n",
        "     test_MNIST_labels) #Test labels"
      ],
      "execution_count": 0,
      "outputs": []
    },
    {
      "metadata": {
        "id": "7i3VR_6emrDU",
        "colab_type": "text"
      },
      "cell_type": "markdown",
      "source": [
        "##Optional\n"
      ]
    },
    {
      "metadata": {
        "id": "tmp8AgwGnFpR",
        "colab_type": "text"
      },
      "cell_type": "markdown",
      "source": [
        "###Kaggle MNIST competition\n",
        "If you feel confident in your model try entering it in the [Kaggle MNIST competition](https://www.kaggle.com/c/digit-recognizer). The following is set up so you can run the cell below and it will output a CSV that you can enter with. \n",
        "\n",
        "The authors record is 35th place with a perfect accuracy. The shape of their model is 9 layers with a total of 4160 nodes trained on all avalible data for 25 epochs. What **intentoinal** mistake did they make."
      ]
    },
    {
      "metadata": {
        "id": "MbKAT3zBm1m1",
        "colab_type": "code",
        "colab": {}
      },
      "cell_type": "code",
      "source": [
        "#opens the kaggle data\n",
        "from google.colab import auth\n",
        "from google.colab import files\n",
        "auth.authenticate_user()\n",
        "from googleapiclient.discovery import build\n",
        "drive_service = build('drive', 'v3')\n",
        "from oauth2client.client import GoogleCredentials\n",
        "def driveDownloader(fileName): #This is used to import from google drive\n",
        "  file_id = fileName\n",
        "  import io\n",
        "  from googleapiclient.http import MediaIoBaseDownload\n",
        "  request = drive_service.files().get_media(fileId=file_id)\n",
        "  downloaded = io.BytesIO()\n",
        "  downloader = MediaIoBaseDownload(downloaded, request)\n",
        "  done = False\n",
        "  while done is False:\n",
        "  # _ is a placeholder for a progress object that we ignore.\n",
        "  # (Our file is small, so we skip reporting progress.)\n",
        "    _, done = downloader.next_chunk()\n",
        "\n",
        "  downloaded.seek(0)\n",
        "  return downloaded\n",
        "print(\"Downloading data\")\n",
        "kaggle_mnist_data = pd.read_csv(driveDownloader('17jgy4ubFVlngqZLgsLyh5tqLNizE-sOM'), sep=\",\")\n",
        "kaggle_mnist_data = kaggle_mnist_data.as_matrix()\n",
        "kaggle_mnist_data = kaggle_mnist_data/256\n",
        "\n",
        "image_ids = []\n",
        "for x in range (0,len(kaggle_mnist_data)):\n",
        "  image_ids.append(x+1)\n",
        "print(\"Making predictions\")\n",
        "predictions_for_kaggle = predict_group(kaggle_mnist_data, #the unlabeled images\n",
        "                                      MNIST_model) #the model you are using\n",
        "\n",
        "merged_lists = list(zip(image_ids,predictions_for_kaggle))\n",
        "df = pd.DataFrame(data = merged_lists, columns=['ImageId', 'Label']) #Makes a pandas dataframe\n",
        "print(\"Making CSV\")\n",
        "df.to_csv(\"Kaggle_MNIST_submission.csv\", index=False) #turns the pandas dataframe into a CSV\n",
        "files.download(\"Kaggle_MNIST_submission.csv\") #downloads the file"
      ],
      "execution_count": 0,
      "outputs": []
    },
    {
      "metadata": {
        "id": "lmlD1d9LLJKh",
        "colab_type": "text"
      },
      "cell_type": "markdown",
      "source": [
        "#3. The Fashion MNIST\n",
        "![alt text](https://markusthill.github.io/images/2017-10-12-zalandos-fashion-mnist-dataset/zalando10x10.jpeg)\n",
        "*Credit: Mark Thill via Github*\n",
        "\n",
        "The Fashion MNIST is a derivative of the MNIST dataset. It also has 60,000 training images and 10,000 test images that are grayscale in a 28 by 28 size\n",
        "\n",
        "Here are the categories, and associated numbers\n",
        "0.   T-shirt/top\n",
        "1.   Trouser \n",
        "2. Pullover\n",
        "3. Dress\n",
        "4. Coat\n",
        "5. Sandal\n",
        "6. Shirt\n",
        "7. Sneaker\n",
        "8. Bag\n",
        "9. Ankle Boot\n",
        "\n",
        "Your task is to create a model using the steps above that can achieve at least a 85% accuracy on test data.\n"
      ]
    },
    {
      "metadata": {
        "id": "E8PNLoJ0LIkn",
        "colab_type": "code",
        "colab": {}
      },
      "cell_type": "code",
      "source": [
        "from keras.datasets import fashion_mnist\n",
        "(train_fashion_images, train_fashion_labels), (test_fashion_images, test_fashion_labels) = fashion_mnist.load_data()"
      ],
      "execution_count": 0,
      "outputs": []
    },
    {
      "metadata": {
        "id": "KPyiFpPqmlIU",
        "colab_type": "text"
      },
      "cell_type": "markdown",
      "source": [
        "##Pre-Process the data\n",
        "The fashion MNIST has the same dimentsions as the MNIST dataset. Look at the code above and prepare the data."
      ]
    },
    {
      "metadata": {
        "id": "DwmxVE5VoSUD",
        "colab_type": "code",
        "colab": {}
      },
      "cell_type": "code",
      "source": [
        "test_fashion_images = ...\n",
        "\n",
        "train_fashion_images = ..."
      ],
      "execution_count": 0,
      "outputs": []
    },
    {
      "metadata": {
        "id": "Tib6u-irouCD",
        "colab_type": "text"
      },
      "cell_type": "markdown",
      "source": [
        "##Display an image"
      ]
    },
    {
      "metadata": {
        "id": "gChEW2VBo6Km",
        "colab_type": "code",
        "colab": {}
      },
      "cell_type": "code",
      "source": [
        "random_number = randint(0,60000)\n",
        "image = train_fashion_images[random_number]\n",
        "label = \"\" \n",
        "\n",
        "display_image(image, label)\n",
        "\n",
        "print(\"Number label is: \" + str(train_fashion_labels[random_number]))"
      ],
      "execution_count": 0,
      "outputs": []
    },
    {
      "metadata": {
        "id": "i2hCr2itxP2L",
        "colab_type": "text"
      },
      "cell_type": "markdown",
      "source": [
        "###Changing numbers to strings using lists "
      ]
    },
    {
      "metadata": {
        "id": "LqKxNiuOyTjx",
        "colab_type": "text"
      },
      "cell_type": "markdown",
      "source": [
        "While it is possible to write ten if statements, it would be time consuming. The easiest way to change a small number to a string is using lists.\n",
        "\n",
        "lists are the "
      ]
    },
    {
      "metadata": {
        "id": "MPF00ndxy22D",
        "colab_type": "code",
        "colab": {}
      },
      "cell_type": "code",
      "source": [
        "flowers = [\"Roses\", \"Dasies\", \"Tulips\", \"Orchids\", \"Carnations\"]"
      ],
      "execution_count": 0,
      "outputs": []
    },
    {
      "metadata": {
        "id": "dLlYBYLDzez4",
        "colab_type": "code",
        "colab": {}
      },
      "cell_type": "code",
      "source": [
        "print(flowers[0])\n",
        "print(flowers[1])\n",
        "print(flowers[4])"
      ],
      "execution_count": 0,
      "outputs": []
    },
    {
      "metadata": {
        "id": "vMQvso8FwyGv",
        "colab_type": "text"
      },
      "cell_type": "markdown",
      "source": [
        "Because our data is labeled as an integer from 0 to 9, we can use lists to change the numbers to integers."
      ]
    },
    {
      "metadata": {
        "id": "73gd9HbfIAza",
        "colab_type": "code",
        "colab": {}
      },
      "cell_type": "code",
      "source": [
        "def fashion_num_to_label(label_num):\n",
        "  fashion_labels = [\"T-shirt/top\", \"Trouser\", \"Pullover\", \"Dress\", \"Coat\", \"Sandal\", \"Shirt\", \"Sneaker\", \"Bag\", \"Ankle Boot\"]\n",
        "  label = ...\n",
        "  return label"
      ],
      "execution_count": 0,
      "outputs": []
    },
    {
      "metadata": {
        "id": "y_5Y9bdU2Q68",
        "colab_type": "text"
      },
      "cell_type": "markdown",
      "source": [
        "Add this function to the display image result above above."
      ]
    },
    {
      "metadata": {
        "id": "lpai9jOntiCp",
        "colab_type": "text"
      },
      "cell_type": "markdown",
      "source": [
        "##Train a model\n",
        "\n",
        "now that the data is prepared"
      ]
    },
    {
      "metadata": {
        "id": "KXFTosyot5WU",
        "colab_type": "code",
        "colab": {}
      },
      "cell_type": "code",
      "source": [
        "fashion_MNIST_model = model_train(5, #epochs,\n",
        "                                  , #input data/features\n",
        "                                  , #input labels\n",
        "                                  60000 #num train images (less then 60,000)\n",
        "                                  )"
      ],
      "execution_count": 0,
      "outputs": []
    },
    {
      "metadata": {
        "id": "MKltmVHJ4kVl",
        "colab_type": "text"
      },
      "cell_type": "markdown",
      "source": [
        "##Visualize results"
      ]
    },
    {
      "metadata": {
        "id": "NnQVyRgP5HfK",
        "colab_type": "code",
        "colab": {}
      },
      "cell_type": "code",
      "source": [
        "random_number = randint(0,60000) # picks a random number\n",
        "image = ... #uses lists\n",
        "label = ...\n",
        "\n",
        "predict_image(image, \n",
        "              , # model\n",
        "              label\n",
        "             )"
      ],
      "execution_count": 0,
      "outputs": []
    },
    {
      "metadata": {
        "id": "FAfYuAzP0QxX",
        "colab_type": "text"
      },
      "cell_type": "markdown",
      "source": [
        "##Stats\n",
        "Make sure to run the cell that contains the stat functions. "
      ]
    },
    {
      "metadata": {
        "id": "zAbQczRX0T3v",
        "colab_type": "code",
        "colab": {}
      },
      "cell_type": "code",
      "source": [
        "stats( , #model name\n",
        "      , #number of images, less then 10,000\n",
        "      , #test images\n",
        "      , # test labels\n",
        "     )"
      ],
      "execution_count": 0,
      "outputs": []
    }
  ]
}